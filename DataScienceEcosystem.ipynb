{
 "cells": [
  {
   "cell_type": "markdown",
   "id": "1a3643fc-0958-4594-835d-dd0ef23cb522",
   "metadata": {},
   "source": [
    "# Data Science Tools and Ecosystem"
   ]
  },
  {
   "cell_type": "markdown",
   "id": "0bf0bc43-ca6b-429a-8615-b1ebc5c55afa",
   "metadata": {},
   "source": [
    "In this notebook, Data Science Tools and Ecosystem are summarized."
   ]
  },
  {
   "cell_type": "markdown",
   "id": "2bb055e3-3932-4c67-b3dc-63d15262c1c0",
   "metadata": {},
   "source": [
    "**Objective:**\n",
    "List popular languages for Data Science\n",
    "- Python\n",
    "- SQL\n",
    "- R\n",
    "- Scala\n",
    "- Julie"
   ]
  },
  {
   "cell_type": "markdown",
   "id": "2246ae46-9181-41bd-b8b9-23ea53168bee",
   "metadata": {},
   "source": [
    "## Some of the popular languages that Data Scientists use are:\n",
    "1. Python\n",
    "2. R\n",
    "3. Julie\n",
    "4. SQL\n",
    "5. Scala"
   ]
  },
  {
   "cell_type": "markdown",
   "id": "ecfa748f-7afe-4f9e-898d-8e5fdfc2b883",
   "metadata": {},
   "source": [
    "## Some of the commonly used libraries used by Data Scientists include:\n",
    "1. Pandas\n",
    "2. NumPy\n",
    "3. MatplotLib\n",
    "4. SciKit\n",
    "5. TensorFlow\n",
    "6. PyTorch"
   ]
  },
  {
   "cell_type": "markdown",
   "id": "de19cbb1-8307-4c75-a746-9c7815c37c1c",
   "metadata": {},
   "source": [
    "| Data Science Tools |\n",
    "| -------------------|\n",
    "| JupyterNotebook |\n",
    "| RStudio |\n",
    "| JupyterLab |"
   ]
  },
  {
   "cell_type": "markdown",
   "id": "a980f394-911b-407a-9a31-80b5d990c318",
   "metadata": {},
   "source": [
    "### Below are a few examples of evaluating arithmetic expressions in Python:\n",
    "###### x = 10\n",
    "###### y = 2\n",
    "###### a = x + y\n",
    "###### b = x - y\n",
    "###### c = x * y\n",
    "###### d = x / y\n",
    "###### e = x // y\n",
    "###### f = x % y\n",
    "###### g = x ** y"
   ]
  },
  {
   "cell_type": "code",
   "execution_count": null,
   "id": "3a74c84a-e4d6-4f5c-8275-abd436f98f49",
   "metadata": {},
   "outputs": [],
   "source": [
    "# Create a code cell to multiply and add numbers"
   ]
  },
  {
   "cell_type": "code",
   "execution_count": 1,
   "id": "ff75d6cb-40de-4728-98a9-25928d033c62",
   "metadata": {
    "tags": []
   },
   "outputs": [
    {
     "name": "stdout",
     "output_type": "stream",
     "text": [
      "17\n"
     ]
    }
   ],
   "source": [
    "x = (3*4)+5\n",
    "print(x)"
   ]
  },
  {
   "cell_type": "code",
   "execution_count": null,
   "id": "2493ead2-bd4e-406a-b371-f98e2317827f",
   "metadata": {},
   "outputs": [],
   "source": [
    "# his will convert 200 minutes to hours by diving by 60"
   ]
  },
  {
   "cell_type": "code",
   "execution_count": 2,
   "id": "aff4a696-4c54-4de1-8e70-046bf1f746a4",
   "metadata": {
    "tags": []
   },
   "outputs": [
    {
     "name": "stdout",
     "output_type": "stream",
     "text": [
      "3.3333333333333335\n"
     ]
    }
   ],
   "source": [
    "minute = 200\n",
    "hour = minute/60\n",
    "print(hour)"
   ]
  },
  {
   "cell_type": "markdown",
   "id": "0485c2ca-660b-42f2-8feb-30df9548eece",
   "metadata": {},
   "source": [
    "## Author:\n",
    "Ahmed Mohammed Jayanti Mochi"
   ]
  },
  {
   "cell_type": "code",
   "execution_count": null,
   "id": "534a234c-f337-4616-a130-61d48fd41c7a",
   "metadata": {},
   "outputs": [],
   "source": []
  }
 ],
 "metadata": {
  "kernelspec": {
   "display_name": "Python",
   "language": "python",
   "name": "conda-env-python-py"
  },
  "language_info": {
   "codemirror_mode": {
    "name": "ipython",
    "version": 3
   },
   "file_extension": ".py",
   "mimetype": "text/x-python",
   "name": "python",
   "nbconvert_exporter": "python",
   "pygments_lexer": "ipython3",
   "version": "3.7.12"
  }
 },
 "nbformat": 4,
 "nbformat_minor": 5
}
